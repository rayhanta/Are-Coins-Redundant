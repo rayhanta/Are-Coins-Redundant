{
  "nbformat": 4,
  "nbformat_minor": 0,
  "metadata": {
    "colab": {
      "name": "CS777_FinalProject.ipynb",
      "provenance": []
    },
    "kernelspec": {
      "name": "python3",
      "display_name": "Python 3"
    },
    "language_info": {
      "name": "python"
    }
  },
  "cells": [
    {
      "cell_type": "code",
      "execution_count": 32,
      "metadata": {
        "colab": {
          "base_uri": "https://localhost:8080/"
        },
        "id": "UUJIPPlbHXYQ",
        "outputId": "a8814b89-cc21-4c53-cad2-5baeda98c74b"
      },
      "outputs": [
        {
          "output_type": "stream",
          "name": "stdout",
          "text": [
            "Looking in indexes: https://pypi.org/simple, https://us-python.pkg.dev/colab-wheels/public/simple/\n",
            "Requirement already satisfied: pyspark in /usr/local/lib/python3.7/dist-packages (3.3.0)\n",
            "Requirement already satisfied: py4j==0.10.9.5 in /usr/local/lib/python3.7/dist-packages (from pyspark) (0.10.9.5)\n"
          ]
        }
      ],
      "source": [
        "pip install pyspark"
      ]
    },
    {
      "cell_type": "code",
      "source": [
        "import os\n",
        "import sys\n",
        "import requests\n",
        "from operator import add\n",
        "\n",
        "from pyspark import SparkConf,SparkContext\n",
        "from pyspark.streaming import StreamingContext\n",
        "\n",
        "from pyspark.sql import SparkSession\n",
        "from pyspark.sql import SQLContext\n",
        "\n",
        "from pyspark.sql.types import *\n",
        "from pyspark.sql import functions as func\n",
        "from pyspark.sql.functions import *\n",
        "\n",
        "spark = SparkSession.builder.master(\"local[*]\").getOrCreate()\n",
        "sc = SparkContext.getOrCreate()\n",
        "sqlContext = SQLContext(sc)"
      ],
      "metadata": {
        "colab": {
          "base_uri": "https://localhost:8080/"
        },
        "id": "JyxkX5EcbOwG",
        "outputId": "a0ef97b1-abbc-4f3f-d747-0a3712cd6612"
      },
      "execution_count": 62,
      "outputs": [
        {
          "output_type": "stream",
          "name": "stderr",
          "text": [
            "/usr/local/lib/python3.7/dist-packages/pyspark/sql/context.py:114: FutureWarning: Deprecated in 3.0.0. Use SparkSession.builder.getOrCreate() instead.\n",
            "  FutureWarning,\n"
          ]
        }
      ]
    },
    {
      "cell_type": "markdown",
      "source": [
        "# Load the Data"
      ],
      "metadata": {
        "id": "icYTN9mkaCLn"
      }
    },
    {
      "cell_type": "code",
      "source": [
        "from google.colab import drive\n",
        "drive.mount('/content/drive')\n",
        "%cd /content/drive/MyDrive/CS_777_Final_Project"
      ],
      "metadata": {
        "colab": {
          "base_uri": "https://localhost:8080/"
        },
        "id": "XW3482h8Hh_B",
        "outputId": "7eadc219-a2e7-42bc-d4ea-8c03cca2625e"
      },
      "execution_count": 34,
      "outputs": [
        {
          "output_type": "stream",
          "name": "stdout",
          "text": [
            "Drive already mounted at /content/drive; to attempt to forcibly remount, call drive.mount(\"/content/drive\", force_remount=True).\n",
            "/content/drive/MyDrive/CS_777_Final_Project\n"
          ]
        }
      ]
    },
    {
      "cell_type": "code",
      "source": [
        "Meter_Transaction = sqlContext.read.format('csv').options(header='true', inferSchema='true',  sep =\",\").load(\"/content/drive/MyDrive/CS_777_Final_Project/Paid_Parking_Transaction_Data-2.csv\")"
      ],
      "metadata": {
        "id": "0CmsnLq6bJG5"
      },
      "execution_count": 37,
      "outputs": []
    },
    {
      "cell_type": "code",
      "source": [
        "Meter_Transaction.show()"
      ],
      "metadata": {
        "colab": {
          "base_uri": "https://localhost:8080/"
        },
        "id": "sFQWMquwbmQZ",
        "outputId": "ab7c73a8-24b3-408d-cc15-db4fd9f2eb5a"
      },
      "execution_count": 38,
      "outputs": [
        {
          "output_type": "stream",
          "name": "stdout",
          "text": [
            "+--------------+----------+--------------------+------------+-----------+-------------------+--------------------+--------------+-----------+--------------------+-----------+-------------+\n",
            "|Transaction ID|Meter Code|Transaction DateTime|Payment Mean|Amount Paid|Duration In Minutes|      Blockface Name|Side Of Street|Element key|Parking Space Number|   Latitude|    Longitude|\n",
            "+--------------+----------+--------------------+------------+-----------+-------------------+--------------------+--------------+-----------+--------------------+-----------+-------------+\n",
            "|    1131346489|  10290004|08/01/2022 07:18:...|       PHONE|       0.65|                 78|VINE ST BETWEEN 3...|            SE|      81290|                null|  47.616859|-122.34744013|\n",
            "|    1131346494|   1034302|08/01/2022 07:18:...| CREDIT CARD|        1.0|                120|1ST AVE S BETWEEN...|             W|      69081|                null| 47.5996247|-122.33428782|\n",
            "|    1131327056|   8136002|08/01/2022 04:03:...| CREDIT CARD|        4.0|                120|7TH AVE BETWEEN C...|            NE|       8242|                null|47.60573702|-122.32786582|\n",
            "|    1131327142|  10352004|08/01/2022 04:06:...|       PHONE|        3.0|                240|5TH AVE BETWEEN W...|            NE|      52530|                null|47.61769217|-122.34569558|\n",
            "|    1131327738|  19337010|08/01/2022 04:22:...| CREDIT CARD|        6.5|                240|HARRISON ST BETWE...|             N|      10873|                null|47.62212546|-122.34041259|\n",
            "|    1131328116|  12209004|08/01/2022 04:33:...|       PHONE|       0.28|                 34|11TH AVE NE BETWE...|             E|       1434|                null|47.66401787|-122.31626539|\n",
            "|    1131328805|   5036002|08/01/2022 04:48:...| CREDIT CARD|        1.0|                120|STEWART ST BETWEE...|            SE|      12874|                null|47.61059687|-122.34081375|\n",
            "|    1131328855|  19127010|08/01/2022 04:50:...|       PHONE|       7.25|                350|EASTLAKE AVE E BE...|             W|     120102|                null|47.62823632|-122.32938631|\n",
            "|    1131329508|  19126010|08/01/2022 05:01:...|       PHONE|       6.03|                301|EASTLAKE AVE E BE...|             W|      10165|                null| 47.6273401|-122.32936627|\n",
            "|    1131329584|   1048002|08/01/2022 05:02:...| CREDIT CARD|        1.0|                120|1ST AVE S BETWEEN...|             W|      46409|                null|47.59737065|-122.33432548|\n",
            "|    1131330744|  19219010|08/01/2022 05:17:...|       PHONE|       6.43|                317|8TH AVE N BETWEEN...|             E|       8406|                null|47.62666319|-122.34090264|\n",
            "|    1131331115|  19219010|08/01/2022 05:22:...|       PHONE|       6.58|                323|8TH AVE N BETWEEN...|             E|       8406|                null|47.62666319|-122.34090264|\n",
            "|    1131331343|  19291010|08/01/2022 05:26:...| CREDIT CARD|        9.0|                420|ALOHA ST BETWEEN ...|             N|      31593|                null|47.62720712|-122.34036244|\n",
            "|    1131331446|  19374010|08/01/2022 05:27:...|       PHONE|       9.43|                328|MERCER NR ST BETW...|             N|     130793|                null|47.62467469|-122.34044917|\n",
            "|    1131331519|  19388010|08/01/2022 05:28:...|       PHONE|       8.23|                389|VALLEY ST BETWEEN...|             S|      13262|                null|47.62620934|-122.34288677|\n",
            "|    1131331944|  17160010|08/01/2022 05:34:...|       PHONE|       6.88|                395|THOMAS ST BETWEEN...|             N|      13129|                null|47.62096628|-122.34566972|\n",
            "|    1131332023|  19150010|08/01/2022 05:35:...|       PHONE|        8.4|                396|ROY ST BETWEEN FA...|             S|      12682|                null|47.62507204|-122.33344568|\n",
            "|    1131490896|  17038004|08/01/2022 12:26:...| CREDIT CARD|       0.75|                 22|ROY ST BETWEEN 1S...|             N|      80641|                null|47.62551026|-122.35477396|\n",
            "|    1131490988|  10333004|08/01/2022 12:26:...|       PHONE|       0.75|                 30|CEDAR ST BETWEEN ...|            NW|      32425|                null|47.61553753|-122.35110871|\n",
            "|    1131491502|  18010007|08/01/2022 12:27:...|       PHONE|        0.5|                 60|WESTLAKE EAST RDW...|             E|     120180|                 160|47.63374548|-122.34014278|\n",
            "+--------------+----------+--------------------+------------+-----------+-------------------+--------------------+--------------+-----------+--------------------+-----------+-------------+\n",
            "only showing top 20 rows\n",
            "\n"
          ]
        }
      ]
    },
    {
      "cell_type": "code",
      "source": [
        "Meter_Transaction.count()"
      ],
      "metadata": {
        "colab": {
          "base_uri": "https://localhost:8080/"
        },
        "id": "7tQlP6XlfRjL",
        "outputId": "ba2355f0-d51f-4bd9-8643-4bbcf43a989a"
      },
      "execution_count": 39,
      "outputs": [
        {
          "output_type": "execute_result",
          "data": {
            "text/plain": [
              "131187"
            ]
          },
          "metadata": {},
          "execution_count": 39
        }
      ]
    },
    {
      "cell_type": "markdown",
      "source": [
        "# Cleaning"
      ],
      "metadata": {
        "id": "ZOH6BIGxrOKB"
      }
    },
    {
      "cell_type": "code",
      "source": [
        "Meter_Transaction_Cleaned = Meter_Transaction.select(col(\"Transaction ID\").alias(\"Transaction_ID\"), col(\"Meter Code\").alias(\"Meter_Code\"), col(\"Transaction DateTime\").alias(\"Transaction_DateTime\"), col(\"Payment Mean\").alias(\"Payment_Mean\"), col(\"Amount Paid\").alias(\"Amount_Paid\"), col(\"Duration In Minutes\").alias(\"Duration_In_Minutes\"), col(\"Blockface Name\").alias(\"Blockface_Name\"), col(\"Side Of Street\").alias(\"Side_Of_Street\"), col(\"Element Key\").alias(\"Element Key\"),\n",
        "                                                         col(\"Parking Space Number\").alias(\"Parking_Space_Number\"))"
      ],
      "metadata": {
        "id": "lRoYJP60rWZw"
      },
      "execution_count": 40,
      "outputs": []
    },
    {
      "cell_type": "code",
      "source": [
        "Meter_Transaction_Cleaned.show()"
      ],
      "metadata": {
        "colab": {
          "base_uri": "https://localhost:8080/"
        },
        "id": "5NJ9OfgphOZe",
        "outputId": "e12cee72-a903-4a62-d855-2269759652f5"
      },
      "execution_count": 41,
      "outputs": [
        {
          "output_type": "stream",
          "name": "stdout",
          "text": [
            "+--------------+----------+--------------------+------------+-----------+-------------------+--------------------+--------------+-----------+--------------------+\n",
            "|Transaction_ID|Meter_Code|Transaction_DateTime|Payment_Mean|Amount_Paid|Duration_In_Minutes|      Blockface_Name|Side_Of_Street|Element Key|Parking_Space_Number|\n",
            "+--------------+----------+--------------------+------------+-----------+-------------------+--------------------+--------------+-----------+--------------------+\n",
            "|    1131346489|  10290004|08/01/2022 07:18:...|       PHONE|       0.65|                 78|VINE ST BETWEEN 3...|            SE|      81290|                null|\n",
            "|    1131346494|   1034302|08/01/2022 07:18:...| CREDIT CARD|        1.0|                120|1ST AVE S BETWEEN...|             W|      69081|                null|\n",
            "|    1131327056|   8136002|08/01/2022 04:03:...| CREDIT CARD|        4.0|                120|7TH AVE BETWEEN C...|            NE|       8242|                null|\n",
            "|    1131327142|  10352004|08/01/2022 04:06:...|       PHONE|        3.0|                240|5TH AVE BETWEEN W...|            NE|      52530|                null|\n",
            "|    1131327738|  19337010|08/01/2022 04:22:...| CREDIT CARD|        6.5|                240|HARRISON ST BETWE...|             N|      10873|                null|\n",
            "|    1131328116|  12209004|08/01/2022 04:33:...|       PHONE|       0.28|                 34|11TH AVE NE BETWE...|             E|       1434|                null|\n",
            "|    1131328805|   5036002|08/01/2022 04:48:...| CREDIT CARD|        1.0|                120|STEWART ST BETWEE...|            SE|      12874|                null|\n",
            "|    1131328855|  19127010|08/01/2022 04:50:...|       PHONE|       7.25|                350|EASTLAKE AVE E BE...|             W|     120102|                null|\n",
            "|    1131329508|  19126010|08/01/2022 05:01:...|       PHONE|       6.03|                301|EASTLAKE AVE E BE...|             W|      10165|                null|\n",
            "|    1131329584|   1048002|08/01/2022 05:02:...| CREDIT CARD|        1.0|                120|1ST AVE S BETWEEN...|             W|      46409|                null|\n",
            "|    1131330744|  19219010|08/01/2022 05:17:...|       PHONE|       6.43|                317|8TH AVE N BETWEEN...|             E|       8406|                null|\n",
            "|    1131331115|  19219010|08/01/2022 05:22:...|       PHONE|       6.58|                323|8TH AVE N BETWEEN...|             E|       8406|                null|\n",
            "|    1131331343|  19291010|08/01/2022 05:26:...| CREDIT CARD|        9.0|                420|ALOHA ST BETWEEN ...|             N|      31593|                null|\n",
            "|    1131331446|  19374010|08/01/2022 05:27:...|       PHONE|       9.43|                328|MERCER NR ST BETW...|             N|     130793|                null|\n",
            "|    1131331519|  19388010|08/01/2022 05:28:...|       PHONE|       8.23|                389|VALLEY ST BETWEEN...|             S|      13262|                null|\n",
            "|    1131331944|  17160010|08/01/2022 05:34:...|       PHONE|       6.88|                395|THOMAS ST BETWEEN...|             N|      13129|                null|\n",
            "|    1131332023|  19150010|08/01/2022 05:35:...|       PHONE|        8.4|                396|ROY ST BETWEEN FA...|             S|      12682|                null|\n",
            "|    1131490896|  17038004|08/01/2022 12:26:...| CREDIT CARD|       0.75|                 22|ROY ST BETWEEN 1S...|             N|      80641|                null|\n",
            "|    1131490988|  10333004|08/01/2022 12:26:...|       PHONE|       0.75|                 30|CEDAR ST BETWEEN ...|            NW|      32425|                null|\n",
            "|    1131491502|  18010007|08/01/2022 12:27:...|       PHONE|        0.5|                 60|WESTLAKE EAST RDW...|             E|     120180|                 160|\n",
            "+--------------+----------+--------------------+------------+-----------+-------------------+--------------------+--------------+-----------+--------------------+\n",
            "only showing top 20 rows\n",
            "\n"
          ]
        }
      ]
    },
    {
      "cell_type": "code",
      "source": [
        "# For the purpose of this analysis we would only be looking at pure payments\n",
        "Meter_Transaction_Cleaned = Meter_Transaction_Cleaned.where(Meter_Transaction_Cleaned.Payment_Mean != \"MIXED\")\n",
        "\n",
        "# Getting rid of invalid rows\n",
        "Meter_Transaction_Cleaned = Meter_Transaction_Cleaned.where(Meter_Transaction_Cleaned.Amount_Paid > 0)\n",
        "Meter_Transaction_Cleaned = Meter_Transaction_Cleaned.where(Meter_Transaction_Cleaned.Amount_Paid > 0)"
      ],
      "metadata": {
        "id": "STEUcdV9rcgp"
      },
      "execution_count": 42,
      "outputs": []
    },
    {
      "cell_type": "code",
      "source": [
        "Meter_Transaction_Cleaned.show()"
      ],
      "metadata": {
        "colab": {
          "base_uri": "https://localhost:8080/"
        },
        "id": "iquJq-19sH8H",
        "outputId": "afc02229-198d-41f8-e4a2-3de70e883eeb"
      },
      "execution_count": 43,
      "outputs": [
        {
          "output_type": "stream",
          "name": "stdout",
          "text": [
            "+--------------+----------+--------------------+------------+-----------+-------------------+--------------------+--------------+-----------+--------------------+\n",
            "|Transaction_ID|Meter_Code|Transaction_DateTime|Payment_Mean|Amount_Paid|Duration_In_Minutes|      Blockface_Name|Side_Of_Street|Element Key|Parking_Space_Number|\n",
            "+--------------+----------+--------------------+------------+-----------+-------------------+--------------------+--------------+-----------+--------------------+\n",
            "|    1131346489|  10290004|08/01/2022 07:18:...|       PHONE|       0.65|                 78|VINE ST BETWEEN 3...|            SE|      81290|                null|\n",
            "|    1131346494|   1034302|08/01/2022 07:18:...| CREDIT CARD|        1.0|                120|1ST AVE S BETWEEN...|             W|      69081|                null|\n",
            "|    1131327056|   8136002|08/01/2022 04:03:...| CREDIT CARD|        4.0|                120|7TH AVE BETWEEN C...|            NE|       8242|                null|\n",
            "|    1131327142|  10352004|08/01/2022 04:06:...|       PHONE|        3.0|                240|5TH AVE BETWEEN W...|            NE|      52530|                null|\n",
            "|    1131327738|  19337010|08/01/2022 04:22:...| CREDIT CARD|        6.5|                240|HARRISON ST BETWE...|             N|      10873|                null|\n",
            "|    1131328116|  12209004|08/01/2022 04:33:...|       PHONE|       0.28|                 34|11TH AVE NE BETWE...|             E|       1434|                null|\n",
            "|    1131328805|   5036002|08/01/2022 04:48:...| CREDIT CARD|        1.0|                120|STEWART ST BETWEE...|            SE|      12874|                null|\n",
            "|    1131328855|  19127010|08/01/2022 04:50:...|       PHONE|       7.25|                350|EASTLAKE AVE E BE...|             W|     120102|                null|\n",
            "|    1131329508|  19126010|08/01/2022 05:01:...|       PHONE|       6.03|                301|EASTLAKE AVE E BE...|             W|      10165|                null|\n",
            "|    1131329584|   1048002|08/01/2022 05:02:...| CREDIT CARD|        1.0|                120|1ST AVE S BETWEEN...|             W|      46409|                null|\n",
            "|    1131330744|  19219010|08/01/2022 05:17:...|       PHONE|       6.43|                317|8TH AVE N BETWEEN...|             E|       8406|                null|\n",
            "|    1131331115|  19219010|08/01/2022 05:22:...|       PHONE|       6.58|                323|8TH AVE N BETWEEN...|             E|       8406|                null|\n",
            "|    1131331343|  19291010|08/01/2022 05:26:...| CREDIT CARD|        9.0|                420|ALOHA ST BETWEEN ...|             N|      31593|                null|\n",
            "|    1131331446|  19374010|08/01/2022 05:27:...|       PHONE|       9.43|                328|MERCER NR ST BETW...|             N|     130793|                null|\n",
            "|    1131331519|  19388010|08/01/2022 05:28:...|       PHONE|       8.23|                389|VALLEY ST BETWEEN...|             S|      13262|                null|\n",
            "|    1131331944|  17160010|08/01/2022 05:34:...|       PHONE|       6.88|                395|THOMAS ST BETWEEN...|             N|      13129|                null|\n",
            "|    1131332023|  19150010|08/01/2022 05:35:...|       PHONE|        8.4|                396|ROY ST BETWEEN FA...|             S|      12682|                null|\n",
            "|    1131490896|  17038004|08/01/2022 12:26:...| CREDIT CARD|       0.75|                 22|ROY ST BETWEEN 1S...|             N|      80641|                null|\n",
            "|    1131490988|  10333004|08/01/2022 12:26:...|       PHONE|       0.75|                 30|CEDAR ST BETWEEN ...|            NW|      32425|                null|\n",
            "|    1131491502|  18010007|08/01/2022 12:27:...|       PHONE|        0.5|                 60|WESTLAKE EAST RDW...|             E|     120180|                 160|\n",
            "+--------------+----------+--------------------+------------+-----------+-------------------+--------------------+--------------+-----------+--------------------+\n",
            "only showing top 20 rows\n",
            "\n"
          ]
        }
      ]
    },
    {
      "cell_type": "markdown",
      "source": [
        "# Exploration"
      ],
      "metadata": {
        "id": "kxBp3ennbvA-"
      }
    },
    {
      "cell_type": "code",
      "source": [
        "grouped_Meter_Transaction = Meter_Transaction_Cleaned.groupBy('Payment_Mean').count().sort(desc(\"count\"))\n",
        "grouped_Meter_Transaction.show()"
      ],
      "metadata": {
        "colab": {
          "base_uri": "https://localhost:8080/"
        },
        "id": "GKu5HjlEbsLT",
        "outputId": "c924987f-3a51-4af6-f7e5-50eff75d6708"
      },
      "execution_count": 44,
      "outputs": [
        {
          "output_type": "stream",
          "name": "stdout",
          "text": [
            "+------------+-----+\n",
            "|Payment_Mean|count|\n",
            "+------------+-----+\n",
            "|       PHONE|92289|\n",
            "| CREDIT CARD|35078|\n",
            "|        CASH| 3732|\n",
            "+------------+-----+\n",
            "\n"
          ]
        }
      ]
    },
    {
      "cell_type": "code",
      "source": [
        "grouped_Meter_Transcation_Stats = Meter_Transaction_Cleaned.groupBy(\n",
        "    \"Payment_Mean\"\n",
        ").agg(\n",
        "    func.sum(func.col(\"Amount_Paid\")).alias(\"Total_Amount_Paid\"),\n",
        "    func.sum(func.col(\"Duration_In_Minutes\")).alias(\"Total_Duration_In_Minutes\"),\n",
        "    func.avg(func.col(\"Amount_Paid\")).alias(\"Average_Amount_Paid\"),\n",
        "    func.avg(func.col(\"Duration_In_Minutes\")).alias(\"Average_Duration_In_Minutes\"),\n",
        ")\n",
        "\n",
        "grouped_Meter_Transcation_Stats.show()"
      ],
      "metadata": {
        "colab": {
          "base_uri": "https://localhost:8080/"
        },
        "id": "Vo5H1Yyjcvqs",
        "outputId": "4b62385a-7bc5-4435-e560-56c29b91ad21"
      },
      "execution_count": 45,
      "outputs": [
        {
          "output_type": "stream",
          "name": "stdout",
          "text": [
            "+------------+------------------+-------------------------+-------------------+---------------------------+\n",
            "|Payment_Mean| Total_Amount_Paid|Total_Duration_In_Minutes|Average_Amount_Paid|Average_Duration_In_Minutes|\n",
            "+------------+------------------+-------------------------+-------------------+---------------------------+\n",
            "|        CASH| 5333.000000000002|                   230273| 1.4289924973204722|         61.702304394426584|\n",
            "| CREDIT CARD|          96752.22|                  3708938|  2.758202292034894|         105.73402132390672|\n",
            "|       PHONE|222552.85000000097|                  8473762| 2.4114775325336817|          91.81768141381963|\n",
            "+------------+------------------+-------------------------+-------------------+---------------------------+\n",
            "\n"
          ]
        }
      ]
    },
    {
      "cell_type": "markdown",
      "source": [
        "# Perform Analysis"
      ],
      "metadata": {
        "id": "S2GEXjs_vyvB"
      }
    },
    {
      "cell_type": "code",
      "source": [
        "Meter_Transaction_Analysis = Meter_Transaction_Cleaned.select(\"Payment_Mean\", \"Amount_Paid\", \"Duration_In_Minutes\")"
      ],
      "metadata": {
        "id": "SD7KV2vsvwkF"
      },
      "execution_count": 46,
      "outputs": []
    },
    {
      "cell_type": "code",
      "source": [
        "Meter_Transaction_Analysis.show()"
      ],
      "metadata": {
        "colab": {
          "base_uri": "https://localhost:8080/"
        },
        "id": "7IkevLA0wK60",
        "outputId": "7f4e2520-5b8d-49dd-8ff8-7e21e5ea6dbf"
      },
      "execution_count": 47,
      "outputs": [
        {
          "output_type": "stream",
          "name": "stdout",
          "text": [
            "+------------+-----------+-------------------+\n",
            "|Payment_Mean|Amount_Paid|Duration_In_Minutes|\n",
            "+------------+-----------+-------------------+\n",
            "|       PHONE|       0.65|                 78|\n",
            "| CREDIT CARD|        1.0|                120|\n",
            "| CREDIT CARD|        4.0|                120|\n",
            "|       PHONE|        3.0|                240|\n",
            "| CREDIT CARD|        6.5|                240|\n",
            "|       PHONE|       0.28|                 34|\n",
            "| CREDIT CARD|        1.0|                120|\n",
            "|       PHONE|       7.25|                350|\n",
            "|       PHONE|       6.03|                301|\n",
            "| CREDIT CARD|        1.0|                120|\n",
            "|       PHONE|       6.43|                317|\n",
            "|       PHONE|       6.58|                323|\n",
            "| CREDIT CARD|        9.0|                420|\n",
            "|       PHONE|       9.43|                328|\n",
            "|       PHONE|       8.23|                389|\n",
            "|       PHONE|       6.88|                395|\n",
            "|       PHONE|        8.4|                396|\n",
            "| CREDIT CARD|       0.75|                 22|\n",
            "|       PHONE|       0.75|                 30|\n",
            "|       PHONE|        0.5|                 60|\n",
            "+------------+-----------+-------------------+\n",
            "only showing top 20 rows\n",
            "\n"
          ]
        }
      ]
    },
    {
      "cell_type": "code",
      "source": [
        "Meter_Transaction_Analysis = Meter_Transaction_Analysis.withColumn(\"Payment_Mean\", when(Meter_Transaction_Analysis.Payment_Mean == \"CASH\", 0).when(Meter_Transaction_Analysis.Payment_Mean == \"CREDIT CARD\", 1).otherwise(2))\n",
        "Meter_Transaction_Analysis.show()"
      ],
      "metadata": {
        "colab": {
          "base_uri": "https://localhost:8080/"
        },
        "id": "_1Z7urG0wlCS",
        "outputId": "ce6d7ed3-44b1-42d4-bbad-be36d60c4ef2"
      },
      "execution_count": 48,
      "outputs": [
        {
          "output_type": "stream",
          "name": "stdout",
          "text": [
            "+------------+-----------+-------------------+\n",
            "|Payment_Mean|Amount_Paid|Duration_In_Minutes|\n",
            "+------------+-----------+-------------------+\n",
            "|           2|       0.65|                 78|\n",
            "|           1|        1.0|                120|\n",
            "|           1|        4.0|                120|\n",
            "|           2|        3.0|                240|\n",
            "|           1|        6.5|                240|\n",
            "|           2|       0.28|                 34|\n",
            "|           1|        1.0|                120|\n",
            "|           2|       7.25|                350|\n",
            "|           2|       6.03|                301|\n",
            "|           1|        1.0|                120|\n",
            "|           2|       6.43|                317|\n",
            "|           2|       6.58|                323|\n",
            "|           1|        9.0|                420|\n",
            "|           2|       9.43|                328|\n",
            "|           2|       8.23|                389|\n",
            "|           2|       6.88|                395|\n",
            "|           2|        8.4|                396|\n",
            "|           1|       0.75|                 22|\n",
            "|           2|       0.75|                 30|\n",
            "|           2|        0.5|                 60|\n",
            "+------------+-----------+-------------------+\n",
            "only showing top 20 rows\n",
            "\n"
          ]
        }
      ]
    },
    {
      "cell_type": "code",
      "source": [
        "import matplotlib.pyplot as plt"
      ],
      "metadata": {
        "id": "uOSpTX6n0C_t"
      },
      "execution_count": 49,
      "outputs": []
    },
    {
      "cell_type": "code",
      "source": [
        "Meter_Transaction_Analysis_Pandas = Meter_Transaction_Analysis.toPandas()\n",
        "fig = plt.figure()\n",
        "ax = fig.add_axes([0,0,1,1])\n",
        "\n",
        "mydict = {0: 'blue',\n",
        "          1: 'yellow',\n",
        "          2: 'green'}\n",
        "\n",
        "legendhandle = [plt.plot([], marker=\"o\", ls=\"\", color=color)[0] for color in list(mydict.values())]\n",
        "\n",
        "ax.scatter(Meter_Transaction_Analysis_Pandas['Amount_Paid'], Meter_Transaction_Analysis_Pandas['Duration_In_Minutes'], c = Meter_Transaction_Analysis_Pandas['Payment_Mean'].map(mydict))\n",
        "ax.set_xlabel('Amount Paid')\n",
        "ax.set_ylabel('Duration in Minutes')\n",
        "ax.set_title('Scatter Plot')\n",
        "plt.title('Amount Paid vs Duration in Minutes')\n",
        "ax.legend(legendhandle, list(mydict.keys()), loc = \"upper right\", frameon = True)\n",
        "plt.show()"
      ],
      "metadata": {
        "colab": {
          "base_uri": "https://localhost:8080/",
          "height": 365
        },
        "id": "IVRJWHSXysk8",
        "outputId": "00472991-b34d-4ab5-f486-31db06dcd1cd"
      },
      "execution_count": 50,
      "outputs": [
        {
          "output_type": "display_data",
          "data": {
            "text/plain": [
              "<Figure size 432x288 with 1 Axes>"
            ],
            "image/png": "[encoded data removed]"
          },
          "metadata": {
            "needs_background": "light"
          }
        }
      ]
    },
    {
      "cell_type": "code",
      "source": [
        "# Logistic Regression"
      ],
      "metadata": {
        "id": "atF-qNnz2p5M"
      },
      "execution_count": null,
      "outputs": []
    },
    {
      "cell_type": "code",
      "source": [
        "from pyspark.ml.linalg import Vectors\n",
        "from pyspark.ml.feature import VectorAssembler\n",
        "assembler = VectorAssembler(inputCols=['Amount_Paid', 'Duration_In_Minutes'],outputCol=\"features\")\n",
        "Meter_Transaction_Analysis = assembler.transform(Meter_Transaction_Analysis)"
      ],
      "metadata": {
        "id": "2in0ZanAZOMe"
      },
      "execution_count": 51,
      "outputs": []
    },
    {
      "cell_type": "code",
      "source": [
        "train, test = Meter_Transaction_Analysis.randomSplit([0.8, 0.2], seed = 777)\n",
        "print(\"Training Dataset Count: \" + str(train.count()))\n",
        "print(\"Testing Dataset Count: \" + str(test.count()))\n",
        "\n",
        "train.groupby(\"Payment_Mean\").count().show()\n",
        "test.groupby(\"Payment_Mean\").count().show()"
      ],
      "metadata": {
        "colab": {
          "base_uri": "https://localhost:8080/"
        },
        "id": "BPbH7ejpZlhI",
        "outputId": "8ff9bcd3-2fd4-4095-b2f3-4090c87f7f82"
      },
      "execution_count": 52,
      "outputs": [
        {
          "output_type": "stream",
          "name": "stdout",
          "text": [
            "Training Dataset Count: 104669\n",
            "Testing Dataset Count: 26430\n",
            "+------------+-----+\n",
            "|Payment_Mean|count|\n",
            "+------------+-----+\n",
            "|           1|27922|\n",
            "|           2|73756|\n",
            "|           0| 2991|\n",
            "+------------+-----+\n",
            "\n",
            "+------------+-----+\n",
            "|Payment_Mean|count|\n",
            "+------------+-----+\n",
            "|           1| 7156|\n",
            "|           2|18533|\n",
            "|           0|  741|\n",
            "+------------+-----+\n",
            "\n"
          ]
        }
      ]
    },
    {
      "cell_type": "code",
      "source": [
        "from pyspark.ml.classification import LogisticRegression\n",
        "from pyspark.mllib.evaluation import MulticlassMetrics\n",
        "import time\n",
        "\n",
        "start_train = time.time()\n",
        "lr = LogisticRegression(featuresCol = 'features', labelCol = 'Payment_Mean', maxIter = 20)\n",
        "lrModel = lr.fit(train)\n",
        "end_train = time.time()\n",
        "\n",
        "start_test = time.time()\n",
        "lrpredictions = lrModel.transform(test)\n",
        "end_test = time.time()\n",
        "\n",
        "start_eval = time.time()\n",
        "lrModel.evaluate(test)\n",
        "\n",
        "lr_metrics = MulticlassMetrics(lrpredictions.select(\"Payment_Mean\", \"prediction\").rdd.map(lambda x: (float(x[0]), float(x[1]))).cache())\n",
        "\n",
        "precision = lr_metrics.precision(1.0)\n",
        "recall = lr_metrics.recall(1.0)\n",
        "f1Score = lr_metrics.fMeasure(1.0)\n",
        "\n",
        "end_eval = time.time()\n",
        "print(\"\\nPerformance Metrics: Logisitic Regression\")\n",
        "print(\"Precision:\", precision)\n",
        "print(\"Recall:\", recall)\n",
        "print(\"F1:\", f1Score)\n",
        "print(\"Confusion Matrix:\", lr_metrics.confusionMatrix().toArray().astype(int))\n",
        "print('The total time needed to train the model: {} secs\\nEvaluate the model: {} secs\\nTest the model: {} secs\\nTotal Time: {} secs'.format(end_train - start_train,\n",
        "                                                                                                                                            end_eval - start_eval,\n",
        "                                                                                                                                            end_test - start_test,\n",
        "                                                                                                                                            (end_train - start_train) + (end_eval - start_eval) + (end_test - start_test)))\n"
      ],
      "metadata": {
        "colab": {
          "base_uri": "https://localhost:8080/"
        },
        "id": "Hk_8jPkwaceD",
        "outputId": "97fc0e31-3099-4960-9e81-363867bd3671"
      },
      "execution_count": 53,
      "outputs": [
        {
          "output_type": "stream",
          "name": "stderr",
          "text": [
            "/usr/local/lib/python3.7/dist-packages/pyspark/sql/context.py:159: FutureWarning: Deprecated in 3.0.0. Use SparkSession.builder.getOrCreate() instead.\n",
            "  FutureWarning,\n"
          ]
        },
        {
          "output_type": "stream",
          "name": "stdout",
          "text": [
            "\n",
            "Performance Metrics: Logisitic Regression\n",
            "Precision: 0.0011179429849077697\n",
            "Recall: 0.20512820512820512\n",
            "F1: 0.0022237665045170257\n",
            "Confusion Matrix: [[    8    31]\n",
            " [ 7148 18502]]\n",
            "The total time needed to train the model: 8.890979290008545 secs\n",
            "Evaluate the model: 4.513829231262207 secs\n",
            "Test the model: 0.32267332077026367 secs\n",
            "Total Time: 13.727481842041016 secs\n"
          ]
        }
      ]
    },
    {
      "cell_type": "code",
      "source": [
        "lrModel.coefficientMatrix"
      ],
      "metadata": {
        "colab": {
          "base_uri": "https://localhost:8080/"
        },
        "id": "TXmLSP1S7gqC",
        "outputId": "d6ca91c1-c4aa-4f2c-867a-05534de94c4b"
      },
      "execution_count": 54,
      "outputs": [
        {
          "output_type": "execute_result",
          "data": {
            "text/plain": [
              "DenseMatrix(3, 2, [-0.2646, -0.0009, 0.1587, 0.0008, 0.1059, 0.0001], 1)"
            ]
          },
          "metadata": {},
          "execution_count": 54
        }
      ]
    },
    {
      "cell_type": "markdown",
      "source": [
        "#Consider credit cards and phone payment as one"
      ],
      "metadata": {
        "id": "Tvl3Bl_u1tzz"
      }
    },
    {
      "cell_type": "code",
      "source": [
        "Meter_Transaction_Analysis = Meter_Transaction_Cleaned.select(\"Payment_Mean\", \"Amount_Paid\", \"Duration_In_Minutes\")\n",
        "Meter_Transaction_Analysis = Meter_Transaction_Analysis.withColumn(\"Payment_Mean\", when(Meter_Transaction_Analysis.Payment_Mean == \"CASH\", 0).otherwise(1))\n",
        "Meter_Transaction_Analysis.show()"
      ],
      "metadata": {
        "colab": {
          "base_uri": "https://localhost:8080/"
        },
        "id": "U_5vpwPt1sin",
        "outputId": "f95908ad-4730-4f18-e944-192c9e112932"
      },
      "execution_count": 56,
      "outputs": [
        {
          "output_type": "stream",
          "name": "stdout",
          "text": [
            "+------------+-----------+-------------------+\n",
            "|Payment_Mean|Amount_Paid|Duration_In_Minutes|\n",
            "+------------+-----------+-------------------+\n",
            "|           1|       0.65|                 78|\n",
            "|           1|        1.0|                120|\n",
            "|           1|        4.0|                120|\n",
            "|           1|        3.0|                240|\n",
            "|           1|        6.5|                240|\n",
            "|           1|       0.28|                 34|\n",
            "|           1|        1.0|                120|\n",
            "|           1|       7.25|                350|\n",
            "|           1|       6.03|                301|\n",
            "|           1|        1.0|                120|\n",
            "|           1|       6.43|                317|\n",
            "|           1|       6.58|                323|\n",
            "|           1|        9.0|                420|\n",
            "|           1|       9.43|                328|\n",
            "|           1|       8.23|                389|\n",
            "|           1|       6.88|                395|\n",
            "|           1|        8.4|                396|\n",
            "|           1|       0.75|                 22|\n",
            "|           1|       0.75|                 30|\n",
            "|           1|        0.5|                 60|\n",
            "+------------+-----------+-------------------+\n",
            "only showing top 20 rows\n",
            "\n"
          ]
        }
      ]
    },
    {
      "cell_type": "code",
      "source": [
        "Meter_Transaction_Analysis_Pandas = Meter_Transaction_Analysis.toPandas()\n",
        "fig = plt.figure()\n",
        "ax = fig.add_axes([0,0,1,1])\n",
        "\n",
        "mydict = {0: 'blue',\n",
        "          1: 'yellow'}\n",
        "\n",
        "legendhandle = [plt.plot([], marker=\"o\", ls=\"\", color=color)[0] for color in list(mydict.values())]\n",
        "\n",
        "ax.scatter(Meter_Transaction_Analysis_Pandas['Amount_Paid'], Meter_Transaction_Analysis_Pandas['Duration_In_Minutes'], c = Meter_Transaction_Analysis_Pandas['Payment_Mean'].map(mydict))\n",
        "ax.set_xlabel('Amount Paid')\n",
        "ax.set_ylabel('Duration in Minutes')\n",
        "ax.set_title('Scatter Plot')\n",
        "plt.title('Amount Paid vs Duration in Minutes')\n",
        "ax.legend(legendhandle, list(mydict.keys()), loc = \"upper right\", frameon = True)\n",
        "plt.show()"
      ],
      "metadata": {
        "colab": {
          "base_uri": "https://localhost:8080/",
          "height": 365
        },
        "id": "kXgNll6z2aJg",
        "outputId": "5db435d4-e28d-442f-cdcd-37be605a80fb"
      },
      "execution_count": 57,
      "outputs": [
        {
          "output_type": "display_data",
          "data": {
            "text/plain": [
              "<Figure size 432x288 with 1 Axes>"
            ],
            "image/png": "[encoded data removed]"
          },
          "metadata": {
            "needs_background": "light"
          }
        }
      ]
    },
    {
      "cell_type": "code",
      "source": [
        "# Logistic Regression"
      ],
      "metadata": {
        "id": "mDQIJpPW2lzf"
      },
      "execution_count": null,
      "outputs": []
    },
    {
      "cell_type": "code",
      "source": [
        "assembler = VectorAssembler(inputCols=['Amount_Paid', 'Duration_In_Minutes'],outputCol=\"features\")\n",
        "Meter_Transaction_Analysis = assembler.transform(Meter_Transaction_Analysis)"
      ],
      "metadata": {
        "id": "RjlvoBbk2mMq"
      },
      "execution_count": 58,
      "outputs": []
    },
    {
      "cell_type": "code",
      "source": [
        "train, test = Meter_Transaction_Analysis.randomSplit([0.8, 0.2], seed = 777)\n",
        "print(\"Training Dataset Count: \" + str(train.count()))\n",
        "print(\"Testing Dataset Count: \" + str(test.count()))\n",
        "\n",
        "train.groupby(\"Payment_Mean\").count().show()\n",
        "test.groupby(\"Payment_Mean\").count().show()"
      ],
      "metadata": {
        "colab": {
          "base_uri": "https://localhost:8080/"
        },
        "id": "5R1J7ANv2qQf",
        "outputId": "0397d0ff-684d-4d82-f3b1-ef5c83c2c4cd"
      },
      "execution_count": 59,
      "outputs": [
        {
          "output_type": "stream",
          "name": "stdout",
          "text": [
            "Training Dataset Count: 104669\n",
            "Testing Dataset Count: 26430\n",
            "+------------+------+\n",
            "|Payment_Mean| count|\n",
            "+------------+------+\n",
            "|           1|101678|\n",
            "|           0|  2991|\n",
            "+------------+------+\n",
            "\n",
            "+------------+-----+\n",
            "|Payment_Mean|count|\n",
            "+------------+-----+\n",
            "|           1|25689|\n",
            "|           0|  741|\n",
            "+------------+-----+\n",
            "\n"
          ]
        }
      ]
    },
    {
      "cell_type": "code",
      "source": [
        "from pyspark.ml.classification import LogisticRegression\n",
        "from pyspark.mllib.evaluation import MulticlassMetrics\n",
        "import time\n",
        "\n",
        "start_train = time.time()\n",
        "lr = LogisticRegression(featuresCol = 'features', labelCol = 'Payment_Mean', maxIter = 20)\n",
        "lrModel = lr.fit(train)\n",
        "end_train = time.time()\n",
        "\n",
        "start_test = time.time()\n",
        "lrpredictions = lrModel.transform(test)\n",
        "end_test = time.time()\n",
        "\n",
        "start_eval = time.time()\n",
        "lrModel.evaluate(test)\n",
        "\n",
        "lr_metrics = MulticlassMetrics(lrpredictions.select(\"Payment_Mean\", \"prediction\").rdd.map(lambda x: (float(x[0]), float(x[1]))).cache())\n",
        "\n",
        "precision = lr_metrics.precision(1.0)\n",
        "recall = lr_metrics.recall(1.0)\n",
        "f1Score = lr_metrics.fMeasure(1.0)\n",
        "\n",
        "end_eval = time.time()\n",
        "print(\"\\nPerformance Metrics: Logisitic Regression\")\n",
        "print(\"Precision:\", precision)\n",
        "print(\"Recall:\", recall)\n",
        "print(\"F1:\", f1Score)\n",
        "print(\"Confusion Matrix:\", lr_metrics.confusionMatrix().toArray().astype(int))\n",
        "print('The total time needed to train the model: {} secs\\nEvaluate the model: {} secs\\nTest the model: {} secs\\nTotal Time: {} secs'.format(end_train - start_train,\n",
        "                                                                                                                                            end_eval - start_eval,\n",
        "                                                                                                                                            end_test - start_test,\n",
        "                                                                                                                                            (end_train - start_train) + (end_eval - start_eval) + (end_test - start_test)))\n"
      ],
      "metadata": {
        "colab": {
          "base_uri": "https://localhost:8080/"
        },
        "id": "zQrwlL1Z2t6M",
        "outputId": "8f831616-15da-46c0-e492-3ae51f95c7b5"
      },
      "execution_count": 60,
      "outputs": [
        {
          "output_type": "stream",
          "name": "stderr",
          "text": [
            "/usr/local/lib/python3.7/dist-packages/pyspark/sql/context.py:159: FutureWarning: Deprecated in 3.0.0. Use SparkSession.builder.getOrCreate() instead.\n",
            "  FutureWarning,\n"
          ]
        },
        {
          "output_type": "stream",
          "name": "stdout",
          "text": [
            "\n",
            "Performance Metrics: Logisitic Regression\n",
            "Precision: 1.0\n",
            "Recall: 0.9719636776390466\n",
            "F1: 0.9857825361192656\n",
            "Confusion Matrix: [[25689]]\n",
            "The total time needed to train the model: 7.208588600158691 secs\n",
            "Evaluate the model: 2.9375360012054443 secs\n",
            "Test the model: 0.14087605476379395 secs\n",
            "Total Time: 10.28700065612793 secs\n"
          ]
        }
      ]
    },
    {
      "cell_type": "code",
      "source": [
        "lrModel.coefficientMatrix"
      ],
      "metadata": {
        "colab": {
          "base_uri": "https://localhost:8080/"
        },
        "id": "ych7GyxV2z-_",
        "outputId": "54300e38-2b81-4b3b-8d99-4734e74f5fff"
      },
      "execution_count": 61,
      "outputs": [
        {
          "output_type": "execute_result",
          "data": {
            "text/plain": [
              "DenseMatrix(1, 2, [0.3162, 0.0037], 1)"
            ]
          },
          "metadata": {},
          "execution_count": 61
        }
      ]
    },
    {
      "cell_type": "code",
      "source": [
        "# Linear SVC"
      ],
      "metadata": {
        "id": "Mylcl-hPjP2d"
      },
      "execution_count": null,
      "outputs": []
    },
    {
      "cell_type": "code",
      "source": [
        "from pyspark.ml.classification import LinearSVC"
      ],
      "metadata": {
        "id": "6qDp_b9RjU8t"
      },
      "execution_count": 63,
      "outputs": []
    },
    {
      "cell_type": "code",
      "source": [
        "start_train = time.time()\n",
        "lsvc = LinearSVC(featuresCol = 'features', labelCol = 'Payment_Mean', maxIter=20, regParam=0.1)\n",
        "\n",
        "lsvcModel = lsvc.fit(train)\n",
        "\n",
        "end_train = time.time()\n",
        "\n",
        "start_test = time.time()\n",
        "lsvc_predictions = lsvcModel.transform(test)\n",
        "end_test = time.time()\n",
        "\n",
        "start_eval = time.time()\n",
        "lsvcModel.evaluate(test)\n",
        "\n",
        "lsvc_metrics = MulticlassMetrics(lsvc_predictions.select(\"Payment_Mean\", \"prediction\").rdd.map(lambda x: (float(x[0]), float(x[1]))).cache())\n",
        "\n",
        "precision = lsvc_metrics.precision(1.0)\n",
        "recall = lsvc_metrics.recall(1.0)\n",
        "f1Score = lsvc_metrics.fMeasure(1.0)\n",
        "\n",
        "end_eval = time.time()\n",
        "\n",
        "\n",
        "print(\"\\nPerformance Metrics: SVM\")\n",
        "print(\"Precision:\", precision)\n",
        "print(\"Recall:\", recall)\n",
        "print(\"F1:\", f1Score)\n",
        "print(\"Confusion Matrix:\", lsvc_metrics.confusionMatrix().toArray().astype(int))\n",
        "print('The total time needed to train the model: {} secs\\nEvaluate the model: {} secs\\nTest the model: {} secs\\nTotal Time: {} secs'.format(end_train - start_train,\n",
        "                                                                                                                                            end_eval - start_eval,\n",
        "                                                                                                                                            end_test - start_test,\n",
        "                                                                                                                                            (end_train - start_train) + (end_eval - start_eval) + (end_test - start_test)))"
      ],
      "metadata": {
        "colab": {
          "base_uri": "https://localhost:8080/"
        },
        "id": "UseMY8wKjFii",
        "outputId": "fe6e14d4-4a31-46ad-b16e-aae5ba04a2b2"
      },
      "execution_count": 66,
      "outputs": [
        {
          "output_type": "stream",
          "name": "stderr",
          "text": [
            "/usr/local/lib/python3.7/dist-packages/pyspark/sql/context.py:159: FutureWarning: Deprecated in 3.0.0. Use SparkSession.builder.getOrCreate() instead.\n",
            "  FutureWarning,\n"
          ]
        },
        {
          "output_type": "stream",
          "name": "stdout",
          "text": [
            "\n",
            "Performance Metrics: SVM\n",
            "Precision: 1.0\n",
            "Recall: 0.9719636776390466\n",
            "F1: 0.9857825361192656\n",
            "Confusion Matrix: [[25689]]\n",
            "The total time needed to train the model: 11.870356321334839 secs\n",
            "Evaluate the model: 2.4445691108703613 secs\n",
            "Test the model: 0.05910229682922363 secs\n",
            "Total Time: 14.374027729034424 secs\n"
          ]
        }
      ]
    }
  ]
}